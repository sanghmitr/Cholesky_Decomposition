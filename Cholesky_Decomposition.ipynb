{
  "nbformat": 4,
  "nbformat_minor": 0,
  "metadata": {
    "colab": {
      "name": "Cholesky_Decomposition.ipynb",
      "provenance": [],
      "collapsed_sections": []
    },
    "kernelspec": {
      "display_name": "Python 3",
      "name": "python3"
    },
    "language_info": {
      "name": "python"
    }
  },
  "cells": [
    {
      "cell_type": "code",
      "metadata": {
        "id": "J2SG6tEG2vdJ"
      },
      "source": [
        "import numpy as np"
      ],
      "execution_count": null,
      "outputs": []
    },
    {
      "cell_type": "markdown",
      "metadata": {
        "id": "WpXSErkInY1W"
      },
      "source": [
        "Function to check if matrix is symmetric or not-"
      ]
    },
    {
      "cell_type": "code",
      "metadata": {
        "id": "yD03N7GQ36eT"
      },
      "source": [
        "def isSymmetric(M):\n",
        "    N, _ = np.shape(M)\n",
        "    for i in range(N):\n",
        "        for j in range(N):\n",
        "            if (M[i][j] != M[j][i]):\n",
        "                return False\n",
        "    return True"
      ],
      "execution_count": null,
      "outputs": []
    },
    {
      "cell_type": "markdown",
      "metadata": {
        "id": "lRwtnxxDnf32"
      },
      "source": [
        "Function to check if matrix is positive definite or not-"
      ]
    },
    {
      "cell_type": "code",
      "metadata": {
        "id": "UyFyTA092qBz"
      },
      "source": [
        "def check_positive_definite(M):\n",
        "  eigen_val = np.linalg.eigvals(M)\n",
        "  #print(eigen_val)\n",
        "  #print(\"\\n\")\n",
        "\n",
        "  positive_all = True\n",
        "  for i in eigen_val:\n",
        "    if i < 0:\n",
        "      positive_all = False\n",
        "      break\n",
        "    else:\n",
        "      positive_all = True\n",
        "\n",
        "  if(positive_all):\n",
        "    return True\n",
        "  return False"
      ],
      "execution_count": null,
      "outputs": []
    },
    {
      "cell_type": "markdown",
      "metadata": {
        "id": "lIsN3TCHnm-9"
      },
      "source": [
        "Function to decompose matrix into cholesky form A = LL^t\n",
        "- It returns the lower triangular matrix L"
      ]
    },
    {
      "cell_type": "code",
      "metadata": {
        "id": "ld_7SNY1jMqx"
      },
      "source": [
        "def cholesky(a):\n",
        "    a = np.array(a, float)\n",
        "    L = np.zeros_like(a)\n",
        "    n,_= np.shape(a)\n",
        "    for j in range(n): \n",
        "        for i in range(j,n):\n",
        "            if i == j:\n",
        "                sumk = 0 \n",
        "                for k in range(j):\n",
        "                    sumk += L[i,k] **2\n",
        "                L[i,j] = np.sqrt(a[i,j]-sumk)\n",
        "            else:\n",
        "                sumk = 0\n",
        "                for k in range(j):\n",
        "                    sumk+= L[i,k]*L[j,k]\n",
        "                L[i,j] = (a[i,j] - sumk) / L[j,j]\n",
        "    return L"
      ],
      "execution_count": null,
      "outputs": []
    },
    {
      "cell_type": "markdown",
      "metadata": {
        "id": "q_7INYnOn2ot"
      },
      "source": [
        "Function to solve the linear system of equations-\n",
        "- It takes lower triangular matrix 'L', upper triangular matrix 'U' and matrix 'b' as input parameters.\n",
        "- It returns the output matrix 'X'"
      ]
    },
    {
      "cell_type": "code",
      "metadata": {
        "id": "kucHMYSu83A1"
      },
      "source": [
        "def solveLU(L,U,b):\n",
        "  L = np.array(L,float)\n",
        "  U = np.array(U,float)\n",
        "  b = np.array(b,float)\n",
        "  n,_ = np.shape(L)\n",
        "  y = np.zeros(n)\n",
        "  x = np.zeros(n)\n",
        "\n",
        "  # forward substitution\n",
        "  for i in range(n):\n",
        "    sumj = 0\n",
        "    for j in range(i):\n",
        "      sumj += L[i,j] * y[j]\n",
        "    y[i] = (b[i]-sumj)/L[i,i]\n",
        "\n",
        "  # backward substitution\n",
        "  for i in range(n-1, -1, -1):\n",
        "    sumj = 0\n",
        "    for j in range(i+1, n):\n",
        "      sumj += U[i,j] * x[j]\n",
        "    x[i] = (y[i]-sumj)/U[i,i]\n",
        "    \n",
        "  return x"
      ],
      "execution_count": null,
      "outputs": []
    },
    {
      "cell_type": "markdown",
      "metadata": {
        "id": "oUf_E7z6oThW"
      },
      "source": [
        "Sample code to test above mentioned functions-"
      ]
    },
    {
      "cell_type": "code",
      "metadata": {
        "colab": {
          "base_uri": "https://localhost:8080/"
        },
        "id": "L52TzUQrkNPM",
        "outputId": "f9384bfc-8ae2-4a13-be88-9f42d068f8ba"
      },
      "source": [
        "'''M = [[5.2,3,0.5,1,2], \n",
        "      [3,6.3,-2,4,0], \n",
        "      [0.5,-2,8,-3.1,3], \n",
        "     [1,4,-3.1,7.6,2.6], \n",
        "      [2,0,3,2.6,15]]'''\n",
        "\n",
        "'''A = [[8.00, 3.22, 0.8, 0.00, 4.10],\n",
        "     [3.22, 7.76, 2.33, 1.91, -1.03],\n",
        "     [0.8, 2.33, 5.25, 1.00, 3.02],\n",
        "     [0.00, -1.91, 1.00, 7.50, 1.03],\n",
        "     [4.10, -1.03, 3.02, 1.03, 6.44]]\n",
        "\n",
        "b = [9.45, -12.20, 7.78, -8.1, 10.0]'''\n",
        "\n",
        "A = [  [21, -9, 0, -7],\n",
        "       [-9, 15, -4, -2],\n",
        "       [0, -4, 19, -8],\n",
        "       [-7,-2,-8,29]\n",
        "     ]\n",
        "\n",
        "b = [19, -11, 8, 0]\n",
        "\n",
        "'''A = [[1,2,3],\n",
        "     [2,8,22],\n",
        "     [3,22,82]]\n",
        "\n",
        "b = [5,6,-10]'''\n",
        "\n",
        "print(\"Given matrix A-\\n\")\n",
        "print(np.matrix(A))\n",
        "\n",
        "is_symmetric = isSymmetric(A)\n",
        "print(\"Is symmetric matrix- \",is_symmetric )\n",
        "is_positive_definite = check_positive_definite(A)\n",
        "print(\"Is positive definite matrix- \",is_positive_definite )\n",
        "print(\"\\n\")\n",
        "\n",
        "if(is_symmetric and is_positive_definite):\n",
        "  L = cholesky(A)\n",
        "\n",
        "  print(\"Matrix L is-\\n\")\n",
        "  print(np.matrix(L))\n",
        "\n",
        "\n",
        "  #to verify if cholesky decomposition is correct or not\n",
        "  M = np.dot(L, np.transpose(L))\n",
        "  print(\"\\nMatrix A = LL^T is-\\n\")\n",
        "  print(np.matrix(M))\n",
        "\n",
        "  x = solveLU(L, np.transpose(L), b)\n",
        "  print(\"\\nResult vector X is-\")\n",
        "  print(x)\n",
        "\n",
        "else:\n",
        "  print(\"Cholesky Decomposition not possible\")\n",
        "Y = np.linalg.solve(A,b)\n",
        "print(\"To verify-\")\n",
        "print(Y)"
      ],
      "execution_count": null,
      "outputs": [
        {
          "output_type": "stream",
          "name": "stdout",
          "text": [
            "Given matrix A-\n",
            "\n",
            "[[21 -9  0 -7]\n",
            " [-9 15 -4 -2]\n",
            " [ 0 -4 19 -8]\n",
            " [-7 -2 -8 29]]\n",
            "Is symmetric matrix-  True\n",
            "Is positive definite matrix-  True\n",
            "\n",
            "\n",
            "Matrix L is-\n",
            "\n",
            "[[ 4.58257569  0.          0.          0.        ]\n",
            " [-1.96396101  3.33809184  0.          0.        ]\n",
            " [ 0.         -1.19828938  4.19095485  0.        ]\n",
            " [-1.52752523 -1.49786172 -2.33714563  4.3544032 ]]\n",
            "\n",
            "Matrix A = LL^T is-\n",
            "\n",
            "[[21. -9.  0. -7.]\n",
            " [-9. 15. -4. -2.]\n",
            " [ 0. -4. 19. -8.]\n",
            " [-7. -2. -8. 29.]]\n",
            "\n",
            "Result vector X is-\n",
            "[1.14427235 0.19211077 0.6600367  0.47153178]\n",
            "To verify-\n",
            "[1.14427235 0.19211077 0.6600367  0.47153178]\n"
          ]
        }
      ]
    },
    {
      "cell_type": "code",
      "metadata": {
        "id": "T1mFM1X921TQ"
      },
      "source": [
        ""
      ],
      "execution_count": null,
      "outputs": []
    }
  ]
}